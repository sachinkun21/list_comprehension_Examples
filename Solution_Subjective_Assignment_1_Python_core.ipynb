{
  "nbformat": 4,
  "nbformat_minor": 0,
  "metadata": {
    "kernelspec": {
      "display_name": "Python 3",
      "language": "python",
      "name": "python3"
    },
    "language_info": {
      "codemirror_mode": {
        "name": "ipython",
        "version": 3
      },
      "file_extension": ".py",
      "mimetype": "text/x-python",
      "name": "python",
      "nbconvert_exporter": "python",
      "pygments_lexer": "ipython3",
      "version": "3.7.4"
    },
    "colab": {
      "name": "Solution: Subjective Assignment - 1: Python core.ipynb",
      "provenance": [],
      "collapsed_sections": [],
      "include_colab_link": true
    }
  },
  "cells": [
    {
      "cell_type": "markdown",
      "metadata": {
        "id": "view-in-github",
        "colab_type": "text"
      },
      "source": [
        "<a href=\"https://colab.research.google.com/github/sachinkun21/list_comprehension_Examples/blob/master/Solution_Subjective_Assignment_1_Python_core.ipynb\" target=\"_parent\"><img src=\"https://colab.research.google.com/assets/colab-badge.svg\" alt=\"Open In Colab\"/></a>"
      ]
    },
    {
      "cell_type": "markdown",
      "metadata": {
        "id": "vPbva4psHeEw",
        "colab_type": "text"
      },
      "source": [
        "#### IF ELIF ELSE\n",
        "['yes' if v == 1 else 'no' if v == 2 else 'idle' for v in l]\n",
        "\n",
        "#### Multiple IF\n",
        "[n for n in range(100) if n>20 if n%2==0 if n<30]"
      ]
    },
    {
      "cell_type": "markdown",
      "metadata": {
        "id": "lU0o5I0d7IMW",
        "colab_type": "text"
      },
      "source": [
        "Q1. Write a Python program to get the string from the given string where\n",
        "all the occurrence of its first char has been changed to '$,' except first\n",
        "char itself?\n",
        "\n",
        "    Sample String: 'prospect'\n",
        "    Expected Result : 'pros$ect'\n"
      ]
    },
    {
      "cell_type": "code",
      "metadata": {
        "id": "4KlIKCNA7jMZ",
        "colab_type": "code",
        "outputId": "d0f2fc79-3b19-4f4b-d1b3-3f611a6e7add",
        "colab": {
          "base_uri": "https://localhost:8080/",
          "height": 34
        }
      },
      "source": [
        "str1 = 'prospect'\n",
        "str2 = ''\n",
        "for i in str1:\n",
        "  if i not in str2:\n",
        "    str2+=i\n",
        "  else:\n",
        "    str2+='$'\n",
        "str2"
      ],
      "execution_count": 16,
      "outputs": [
        {
          "output_type": "execute_result",
          "data": {
            "text/plain": [
              "'pros$ect'"
            ]
          },
          "metadata": {
            "tags": []
          },
          "execution_count": 16
        }
      ]
    },
    {
      "cell_type": "markdown",
      "metadata": {
        "id": "vmS6DU3T7IMv",
        "colab_type": "text"
      },
      "source": [
        "Q2. Write a Python program to get the single string from the two given\n",
        "strings, and separated by the space and swap the first two characters of\n",
        "each string?\n",
        "\n",
        "    Sample String : 'abc', 'xyz'.\n",
        "    Expected Result: 'xyc abz'"
      ]
    },
    {
      "cell_type": "code",
      "metadata": {
        "id": "g51ao08v7IMx",
        "colab_type": "code",
        "colab": {}
      },
      "source": [
        "str1, str2 = 'abc' , 'xyz'\n",
        "#[string[-1]+string[1:-1]+string[0] for string in [str1,str2]][::-1]\n",
        "\n",
        "# str_rev = ' '.join([string for string in [str1,str2]][::-1])\n",
        "# str_rev[-1]+str_rev[1:-1]+str_rev[0]\n",
        "str_rev = (str2[:-1]+str1[-1]+\" \"+str1[:-1]+str2[-1])\n",
        "str_rev"
      ],
      "execution_count": 0,
      "outputs": []
    },
    {
      "cell_type": "markdown",
      "metadata": {
        "id": "6T6m4oXf7IM_",
        "colab_type": "text"
      },
      "source": [
        "Q3. Write the Python program to add 'ing' at the end of the given string\n",
        "(length of the string should be at least 3). If given string already ends\n",
        "with 'ing,' then add 'ly' instead. If string length of the given string is less\n",
        "than 3, leave it unchanged?\n",
        "\n",
        "\n",
        "    Sample string: ' abc '\n",
        "    Expected result: ' abcing '\n",
        "    Sample string: ' string '\n",
        "    Expected result: ' stringly '\n"
      ]
    },
    {
      "cell_type": "code",
      "metadata": {
        "id": "29dzvikr7INC",
        "colab_type": "code",
        "colab": {}
      },
      "source": [
        "string = ' string '\n",
        "string = string.rstrip()\n",
        "string if len(string)<3 else string+'ly' if string[-3:]=='ing' else string+'ing'"
      ],
      "execution_count": 0,
      "outputs": []
    },
    {
      "cell_type": "markdown",
      "metadata": {
        "id": "sPVCiUcb7INQ",
        "colab_type": "text"
      },
      "source": [
        "Q4. Write the Python program to find the first appearance of the\n",
        "substring 'not' and 'poor' from the given string, if 'not' follows the 'poor',\n",
        "replace the whole 'not'...' poor' substring with 'good'.Return the resulting\n",
        "string.\n",
        "\n",
        "    Sample string: 'The lyrics are not that poor!'\n",
        "    'The lyrics are poor!'\n",
        "    Expected Result: 'The lyrics are good!'\n",
        "    'The lyrics are poor!'"
      ]
    },
    {
      "cell_type": "code",
      "metadata": {
        "id": "AnGEerr37INT",
        "colab_type": "code",
        "colab": {}
      },
      "source": [
        "Sample_string = 'The lyrics are not that poor!'"
      ],
      "execution_count": 0,
      "outputs": []
    },
    {
      "cell_type": "markdown",
      "metadata": {
        "id": "CfMhK6tb7INf",
        "colab_type": "text"
      },
      "source": [
        "Q5. Write the Python program to remove the characters which have odd\n",
        "index values of a given string."
      ]
    },
    {
      "cell_type": "code",
      "metadata": {
        "id": "N6ZNjaSW7INh",
        "colab_type": "code",
        "outputId": "1b8df68f-3ac1-4e3b-ffd9-c30f73019acd",
        "colab": {
          "base_uri": "https://localhost:8080/",
          "height": 163
        }
      },
      "source": [
        "''.join([j for i,j in enumerate(Sample_string) if i%2!=0])"
      ],
      "execution_count": 3,
      "outputs": [
        {
          "output_type": "error",
          "ename": "NameError",
          "evalue": "ignored",
          "traceback": [
            "\u001b[0;31m---------------------------------------------------------------------------\u001b[0m",
            "\u001b[0;31mNameError\u001b[0m                                 Traceback (most recent call last)",
            "\u001b[0;32m<ipython-input-3-b473cebe28f8>\u001b[0m in \u001b[0;36m<module>\u001b[0;34m()\u001b[0m\n\u001b[0;32m----> 1\u001b[0;31m \u001b[0;34m''\u001b[0m\u001b[0;34m.\u001b[0m\u001b[0mjoin\u001b[0m\u001b[0;34m(\u001b[0m\u001b[0;34m[\u001b[0m\u001b[0mj\u001b[0m \u001b[0;32mfor\u001b[0m \u001b[0mi\u001b[0m\u001b[0;34m,\u001b[0m\u001b[0mj\u001b[0m \u001b[0;32min\u001b[0m \u001b[0menumerate\u001b[0m\u001b[0;34m(\u001b[0m\u001b[0mSample_string\u001b[0m\u001b[0;34m)\u001b[0m \u001b[0;32mif\u001b[0m \u001b[0mi\u001b[0m\u001b[0;34m%\u001b[0m\u001b[0;36m2\u001b[0m\u001b[0;34m!=\u001b[0m\u001b[0;36m0\u001b[0m\u001b[0;34m]\u001b[0m\u001b[0;34m)\u001b[0m\u001b[0;34m\u001b[0m\u001b[0;34m\u001b[0m\u001b[0m\n\u001b[0m",
            "\u001b[0;31mNameError\u001b[0m: name 'Sample_string' is not defined"
          ]
        }
      ]
    },
    {
      "cell_type": "markdown",
      "metadata": {
        "id": "n5t1VQAy7INu",
        "colab_type": "text"
      },
      "source": [
        "Q6. Write the python program to print the following floating numbers up\n",
        "to 2 decimal places?"
      ]
    },
    {
      "cell_type": "code",
      "metadata": {
        "id": "a9u9QW227INw",
        "colab_type": "code",
        "colab": {}
      },
      "source": [
        "num = 132.46347845\n",
        "round(num,2)"
      ],
      "execution_count": 0,
      "outputs": []
    },
    {
      "cell_type": "markdown",
      "metadata": {
        "id": "bNadZOL17IOC",
        "colab_type": "text"
      },
      "source": [
        "Q7. Write the Python program to format a number with a percentage?"
      ]
    },
    {
      "cell_type": "code",
      "metadata": {
        "id": "6BUwzFC97IOF",
        "colab_type": "code",
        "outputId": "d6308f04-925f-4245-e47b-71cce89ae855",
        "colab": {
          "base_uri": "https://localhost:8080/",
          "height": 34
        }
      },
      "source": [
        "num = 10\n",
        "str(num)+\" %\""
      ],
      "execution_count": 4,
      "outputs": [
        {
          "output_type": "execute_result",
          "data": {
            "text/plain": [
              "'10 %'"
            ]
          },
          "metadata": {
            "tags": []
          },
          "execution_count": 4
        }
      ]
    },
    {
      "cell_type": "markdown",
      "metadata": {
        "id": "GTYa9mgz7IOX",
        "colab_type": "text"
      },
      "source": [
        "Q8. Write the Python program to count occurrences of a substring in a\n",
        "String?"
      ]
    },
    {
      "cell_type": "code",
      "metadata": {
        "id": "KINVjeRV7IOa",
        "colab_type": "code",
        "outputId": "160149f2-2406-4363-ab6b-ea28a785f2a1",
        "colab": {
          "base_uri": "https://localhost:8080/",
          "height": 34
        }
      },
      "source": [
        "string= 'TheQuickBrownFoxisFoxyfox'\n",
        "substr = 'Fox'\n",
        "\n",
        "# Simplest case insensitive: Remove .lower for case senstive\n",
        "string.lower().count(substr.lower())"
      ],
      "execution_count": 5,
      "outputs": [
        {
          "output_type": "execute_result",
          "data": {
            "text/plain": [
              "3"
            ]
          },
          "metadata": {
            "tags": []
          },
          "execution_count": 5
        }
      ]
    },
    {
      "cell_type": "markdown",
      "metadata": {
        "id": "JBg611JU7IOy",
        "colab_type": "text"
      },
      "source": [
        "Q9. Write the Python program to count repeated characters in a string.\n",
        "\n",
        "    Sample string: ' thequickbrownjumpsoverthelazydog '\n",
        "    \n",
        "    Expected output:\n",
        "    o 3\n",
        "    e 3\n",
        "    u 2\n",
        "    h 2\n",
        "    r 2\n",
        "    t 2"
      ]
    },
    {
      "cell_type": "code",
      "metadata": {
        "id": "rtrvY9Fi7IO7",
        "colab_type": "code",
        "outputId": "ea37716e-38de-46a0-a82d-b7cb0efccf88",
        "colab": {
          "base_uri": "https://localhost:8080/",
          "height": 51
        }
      },
      "source": [
        "Sample_string = ' thequickbrownjumpsoverthelazydog '\n",
        "\n",
        "# Easy approach\n",
        "print({k:Sample_string.count(k) for k in Sample_string if Sample_string.count(k)>1 and k!=' '  })\n",
        "\n",
        "# Reduced operations\n",
        "print({k:Sample_string.count(k) for k in list(set(Sample_string)) if Sample_string.count(k)>1 and k!=' '  })"
      ],
      "execution_count": 6,
      "outputs": [
        {
          "output_type": "stream",
          "text": [
            "{'t': 2, 'h': 2, 'e': 3, 'u': 2, 'r': 2, 'o': 3}\n",
            "{'u': 2, 'h': 2, 'o': 3, 't': 2, 'r': 2, 'e': 3}\n"
          ],
          "name": "stdout"
        }
      ]
    },
    {
      "cell_type": "markdown",
      "metadata": {
        "id": "NlT4DS7Z7IPL",
        "colab_type": "text"
      },
      "source": [
        "Q10. Write the Python program to print the square and cube symbol in\n",
        "the area of a rectangle and volume of a cylinder?\n",
        "\n",
        "    Sample outputThe area of the rectangle is 1256.66cm2\n",
        "    The volume of the cylinder is 1254.725cm3\n"
      ]
    },
    {
      "cell_type": "code",
      "metadata": {
        "id": "isl_jocs7IPN",
        "colab_type": "code",
        "outputId": "69494a7a-a80a-41a3-cebc-da965f031dc6",
        "colab": {
          "base_uri": "https://localhost:8080/",
          "height": 51
        }
      },
      "source": [
        "l,b = [2,3.12]\n",
        "print(\"The area of the rectangle is: {}cm2\".format(l*b))\n",
        "\n",
        "l,b,h = [2,3.12,4]\n",
        "print(\"The volume of the cylinder is: {}cm3\".format(l*b*h))"
      ],
      "execution_count": 7,
      "outputs": [
        {
          "output_type": "stream",
          "text": [
            "The area of the rectangle is: 6.24cm2\n",
            "The volume of the cylinder is: 24.96cm3\n"
          ],
          "name": "stdout"
        }
      ]
    },
    {
      "cell_type": "markdown",
      "metadata": {
        "id": "mmgYgsU17IPU",
        "colab_type": "text"
      },
      "source": [
        "Q11. Write the Python program to check if a string contains all letters of\n",
        "the alphabet?"
      ]
    },
    {
      "cell_type": "code",
      "metadata": {
        "id": "TuBrA10o7IPV",
        "colab_type": "code",
        "outputId": "18e83875-916f-4b36-85b1-c934f1482564",
        "colab": {
          "base_uri": "https://localhost:8080/",
          "height": 51
        }
      },
      "source": [
        "# Easy to understand\n",
        "print(len([True for i in 'abcdefghijklmnopqrstuvwxyz' if Sample_string.lower().find(i)!=-1])==26)\n",
        "\n",
        "# Another one\n",
        "print(all([True if i in Sample_string.lower() else False for i in 'abcdefghijklmnopqrstuvwxyz' ]))\n"
      ],
      "execution_count": 8,
      "outputs": [
        {
          "output_type": "stream",
          "text": [
            "False\n",
            "False\n"
          ],
          "name": "stdout"
        }
      ]
    },
    {
      "cell_type": "markdown",
      "metadata": {
        "id": "tAfmpb3p7IPa",
        "colab_type": "text"
      },
      "source": [
        "Q12. Write the Python program to find the second most repeated word\n",
        "in a given string?"
      ]
    },
    {
      "cell_type": "code",
      "metadata": {
        "id": "OoUqubFS7IPb",
        "colab_type": "code",
        "outputId": "2fba358f-c455-4bea-c7cb-6448e96dd420",
        "colab": {
          "base_uri": "https://localhost:8080/",
          "height": 34
        }
      },
      "source": [
        "#[(k,Sample_string.split(\" \").count(k)) for k in Sample_string.split(\" \")]\n",
        "list1 = [(k,v) for k,v in {k:Sample_string.split(\" \").count(k) for k in Sample_string.split(\" \")}.items()]\n",
        "list1.sort(key= lambda x:x[1])\n",
        "list1[-2]"
      ],
      "execution_count": 9,
      "outputs": [
        {
          "output_type": "execute_result",
          "data": {
            "text/plain": [
              "('thequickbrownjumpsoverthelazydog', 1)"
            ]
          },
          "metadata": {
            "tags": []
          },
          "execution_count": 9
        }
      ]
    },
    {
      "cell_type": "markdown",
      "metadata": {
        "id": "ziI5GUMu7IPh",
        "colab_type": "text"
      },
      "source": [
        "Q13. Write the Python program to find the minimum window in the given\n",
        "string, which will contains all the characters of another given\n",
        "strings?\n",
        "\n",
        "    Example 1\n",
        "    Input : string1 = \" PRWSOERIUSFK \"\n",
        "    string2 = \" OSU \"\n",
        "    Output: Minimum window is \"OERIUS\""
      ]
    },
    {
      "cell_type": "code",
      "metadata": {
        "id": "NkhWoS9B7IPi",
        "colab_type": "code",
        "colab": {}
      },
      "source": [
        "# set(\"ORI\")==set(\"OIR\")"
      ],
      "execution_count": 0,
      "outputs": []
    },
    {
      "cell_type": "markdown",
      "metadata": {
        "id": "isWffAHy7IPm",
        "colab_type": "text"
      },
      "source": [
        "Q14. Write the Python program to count number of substrings from a\n",
        "given string of lowercase alphabets with exactly k distinct (given)\n",
        "characters?\n",
        "\n",
        "    Input a string (lowercase alphabets): wolf\n",
        "    Input k: 4\n",
        "    Number of substrings with exactly 4 distinct characters: 1"
      ]
    },
    {
      "cell_type": "code",
      "metadata": {
        "id": "aAGxbMO57IPn",
        "colab_type": "code",
        "outputId": "ab8857b1-33cf-42fb-bcfa-42863936ca11",
        "colab": {
          "base_uri": "https://localhost:8080/",
          "height": 34
        }
      },
      "source": [
        "# Simplest approach\n",
        "string = 'abcd'\n",
        "k=4\n",
        "sum([1 for i in range(len(string)) for j in range(i,len(string)) if len(set(string[i:j+1]))==k])"
      ],
      "execution_count": 11,
      "outputs": [
        {
          "output_type": "execute_result",
          "data": {
            "text/plain": [
              "1"
            ]
          },
          "metadata": {
            "tags": []
          },
          "execution_count": 11
        }
      ]
    },
    {
      "cell_type": "markdown",
      "metadata": {
        "id": "fR0Ra59Q7IPr",
        "colab_type": "text"
      },
      "source": [
        "Q15. Write the Python program to count number of substrings with same\n",
        "first and last characters of the given string?\n",
        "\n",
        "    Input a string: abcd\n",
        "    4\n"
      ]
    },
    {
      "cell_type": "code",
      "metadata": {
        "id": "1d4rhYJg7IPu",
        "colab_type": "code",
        "outputId": "9d3eb0e5-74f7-452f-84f9-3ee708c0e7a7",
        "colab": {
          "base_uri": "https://localhost:8080/",
          "height": 51
        }
      },
      "source": [
        "# Simplest approach\n",
        "string = 'abcda'\n",
        "\n",
        "# Easy to understand\n",
        "print(sum([1 for i in range(len(string)) for j in range(i,len(string)) if string[i:j+1][0]==string[i:j+1][-1] ]))\n",
        "\n",
        "# Equivalent\n",
        "print(sum([1 for i in range(len(string)) for j in range(i,len(string)) if string[i]==string[j] ]))"
      ],
      "execution_count": 12,
      "outputs": [
        {
          "output_type": "stream",
          "text": [
            "6\n",
            "6\n"
          ],
          "name": "stdout"
        }
      ]
    },
    {
      "cell_type": "markdown",
      "metadata": {
        "id": "1oYhey3QAn5B",
        "colab_type": "text"
      },
      "source": [
        "#### Best Approach:\n",
        "As the total count just depends on frequencies of each character in (A-Z) the original string we can just count the freq of Each Character.\n",
        "\n",
        "This would bring down the time complexity from O(n2) to O(n)(This would fail if string contains anything other then the 26 alphabets) \n",
        "\n",
        "For example in string abcab, frequency of ‘a’ is 2 and substrings contributing to answer are a, abca and a respectively, a total of 3, which is calculated by (frequency of ‘a’+1)C2."
      ]
    },
    {
      "cell_type": "code",
      "metadata": {
        "id": "Pfx-grOWpLEC",
        "colab_type": "code",
        "colab": {
          "base_uri": "https://localhost:8080/",
          "height": 34
        },
        "outputId": "6375b893-9852-4436-a968-99b78c1ccc61"
      },
      "source": [
        "# Best Approch\n",
        "string = string.lower()\n",
        "sum([string.count(alphabet)*(string.count(alphabet)+1)/2 for alphabet in ('abcdefghijklmnopqrstuvwxyz')])"
      ],
      "execution_count": 13,
      "outputs": [
        {
          "output_type": "execute_result",
          "data": {
            "text/plain": [
              "6.0"
            ]
          },
          "metadata": {
            "tags": []
          },
          "execution_count": 13
        }
      ]
    },
    {
      "cell_type": "markdown",
      "metadata": {
        "id": "B0oYuHMF7IPx",
        "colab_type": "text"
      },
      "source": [
        "## Great Job!"
      ]
    }
  ]
}